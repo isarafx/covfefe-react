{
 "cells": [
  {
   "cell_type": "code",
   "execution_count": 1,
   "metadata": {},
   "outputs": [
    {
     "name": "stdout",
     "output_type": "stream",
     "text": [
      "yolo\n"
     ]
    }
   ],
   "source": [
    "print('yolo')"
   ]
  },
  {
   "cell_type": "code",
   "execution_count": 1,
   "metadata": {},
   "outputs": [],
   "source": [
    "import os\n",
    "path_list = [os.path.join(path, name) for path, subdirs, files in os.walk('/Users/isarakunudomchaiwat/Desktop/1project/prod/my-app/src/styles') for name in files]"
   ]
  },
  {
   "cell_type": "code",
   "execution_count": 6,
   "metadata": {},
   "outputs": [
    {
     "name": "stdout",
     "output_type": "stream",
     "text": [
      "'../src/styles/Brewing_Guide2.css',\n",
      "'../src/styles/Coffee_Article.css',\n",
      "'../src/styles/Community.css',\n",
      "'../src/styles/Brewing_Guide3.css',\n",
      "'../src/styles/Range_Slider.css',\n",
      "'../src/styles/Brewing_Guide4.css',\n",
      "'../src/styles/.DS_Store',\n",
      "'../src/styles/styles.css',\n",
      "'../src/styles/Features-Clean.css',\n",
      "'../src/styles/Multiple-Input-Select-Pills.css',\n",
      "'../src/styles/Ultimate-Sidebar-Menu-BS5.css',\n",
      "'../src/styles/Round_switch.css',\n",
      "'../src/styles/Profile_page.css',\n",
      "'../src/styles/Error.css',\n",
      "'../src/styles/Login_Register.css',\n",
      "'../src/styles/content-styles.css',\n",
      "'../src/styles/Brewing_Guide.css',\n",
      "'../src/styles/Admin_page.css',\n"
     ]
    }
   ],
   "source": [
    "newlist = []\n",
    "for i in path_list:\n",
    "    print(\"'../src/styles/\"+i[67:]+\"',\")"
   ]
  },
  {
   "cell_type": "code",
   "execution_count": 1,
   "metadata": {},
   "outputs": [
    {
     "data": {
      "text/plain": [
       "False"
      ]
     },
     "execution_count": 1,
     "metadata": {},
     "output_type": "execute_result"
    }
   ],
   "source": [
    "[]!=[]"
   ]
  },
  {
   "cell_type": "code",
   "execution_count": null,
   "metadata": {},
   "outputs": [],
   "source": []
  }
 ],
 "metadata": {
  "kernelspec": {
   "display_name": "Python 3",
   "language": "python",
   "name": "python3"
  },
  "language_info": {
   "codemirror_mode": {
    "name": "ipython",
    "version": 3
   },
   "file_extension": ".py",
   "mimetype": "text/x-python",
   "name": "python",
   "nbconvert_exporter": "python",
   "pygments_lexer": "ipython3",
   "version": "3.9.7"
  },
  "orig_nbformat": 4,
  "vscode": {
   "interpreter": {
    "hash": "aee8b7b246df8f9039afb4144a1f6fd8d2ca17a180786b69acc140d282b71a49"
   }
  }
 },
 "nbformat": 4,
 "nbformat_minor": 2
}
