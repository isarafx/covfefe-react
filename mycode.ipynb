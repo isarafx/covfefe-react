{
 "cells": [
  {
   "cell_type": "code",
   "execution_count": 1,
   "metadata": {},
   "outputs": [
    {
     "name": "stdout",
     "output_type": "stream",
     "text": [
      "yolo\n"
     ]
    }
   ],
   "source": [
    "print('yolo')"
   ]
  },
  {
   "cell_type": "code",
   "execution_count": 5,
   "metadata": {},
   "outputs": [],
   "source": [
    "import os\n",
    "path_list = [os.path.join(path, name) for path, subdirs, files in os.walk('/Users/isarakunudomchaiwat/Desktop/1project/prod/my-app/public') for name in files]"
   ]
  },
  {
   "cell_type": "code",
   "execution_count": 8,
   "metadata": {},
   "outputs": [
    {
     "name": "stdout",
     "output_type": "stream",
     "text": [
      "'favicon.ico',\n",
      "'index.html',\n",
      "'.DS_Store',\n",
      "'manifest.json',\n",
      "'serviceworker.js',\n",
      "'robots.txt',\n",
      "'assets/.DS_Store',\n",
      "'assets/bootstrap/css/bootstrap.min.css',\n",
      "'assets/bootstrap/js/bootstrap.min.js',\n",
      "'assets/css/Brewing_Guide2.css',\n",
      "'assets/css/Coffee_Article.css',\n",
      "'assets/css/Community.css',\n",
      "'assets/css/Brewing_Guide3.css',\n",
      "'assets/css/Brewing_Guide4.css',\n",
      "'assets/css/styles.css',\n",
      "'assets/css/Features-Clean.css',\n",
      "'assets/css/Multiple-Input-Select-Pills.css',\n",
      "'assets/css/Ultimate-Sidebar-Menu-BS5.css',\n",
      "'assets/css/Round_switch.css',\n",
      "'assets/css/Profile_page.css',\n",
      "'assets/css/Error.css',\n",
      "'assets/css/Login_Register.css',\n",
      "'assets/css/Brewing_Guide.css',\n",
      "'assets/css/Admin_page.css',\n",
      "'assets/js/CoffeeProject.js',\n",
      "'assets/js/CoffeeAvarta.js',\n",
      "'assets/js/bs-init.js',\n",
      "'assets/img/pwaicon512.png',\n",
      "'assets/img/legend_water.png',\n",
      "'assets/img/MokaPot.png',\n",
      "'assets/img/Tools_5.png',\n",
      "'assets/img/Tools_4.png',\n",
      "'assets/img/Error2.png',\n",
      "'assets/img/Favorite Icon.png',\n",
      "'assets/img/legend_rename.png',\n",
      "'assets/img/Moka_ICO.png',\n",
      "'assets/img/Tools_6.png',\n",
      "'assets/img/Tools_7.png',\n",
      "'assets/img/Error1.png',\n",
      "'assets/img/Tools_3.png',\n",
      "'assets/img/Tools_2.png',\n",
      "'assets/img/guide_pack_ico.png',\n",
      "'assets/img/Hario_ICO.png',\n",
      "'assets/img/guide_ratio_ico.png',\n",
      "'assets/img/Tools_1.png',\n",
      "'assets/img/Frenchpress_ICO.png',\n",
      "'assets/img/AvatarIcon.jpg',\n",
      "'assets/img/guide_water_ico.png',\n",
      "'assets/img/guide_timer_ico.png',\n",
      "'assets/img/Process_Dummy_icon.png',\n",
      "'assets/img/Shop Icon.png',\n",
      "'assets/img/legend_name.png',\n",
      "'assets/img/legend_picture.png',\n",
      "'assets/img/Aeropress_ICO.png',\n",
      "'assets/img/legend_process.png',\n",
      "'assets/img/Chemex.png',\n",
      "'assets/img/guide_bean_ico.png',\n",
      "'assets/img/Timer_pause_ico.png',\n",
      "'assets/img/Article_Dummy.png',\n",
      "'assets/img/Timer_play_ico.png',\n",
      "'assets/img/Frenchpress.png',\n",
      "'assets/img/legend_note.png',\n",
      "'assets/img/legend_time.png',\n",
      "'assets/img/legend_bean.png',\n",
      "'assets/img/Comment_Female.png',\n",
      "'assets/img/guide_grind_ico.png',\n",
      "'assets/img/BG1.png',\n",
      "'assets/img/Aeropress192.png',\n",
      "'assets/img/guide_heat_ico.png',\n",
      "'assets/img/ALL_ICO.png',\n",
      "'assets/img/Sample.png',\n",
      "'assets/img/Mug icon.png',\n",
      "'assets/img/pwaicon192.png',\n",
      "'assets/img/Shop_Dummy.png',\n",
      "'assets/img/legend_tool.png',\n",
      "'assets/img/Timer_skip_ico.png',\n",
      "'assets/img/CoffeeCactus.png',\n",
      "'assets/img/Mainprofile3.jpg',\n",
      "'assets/img/Picture1.png',\n",
      "'assets/img/Finished_ICO1.gif',\n",
      "'assets/img/Mainprofile2.png',\n",
      "'assets/img/Tools_10.png',\n",
      "'assets/img/Comment_Male.png',\n",
      "'assets/img/Cup Icon.png',\n",
      "'assets/img/Picture3.png',\n",
      "'assets/img/5sec.mp3',\n",
      "'assets/img/Mainprofile1.jpg',\n",
      "'assets/img/Chemex_ICO.png',\n",
      "'assets/img/Tools_11.png',\n",
      "'assets/img/Mainprofile5.png',\n",
      "'assets/img/Hario V60.png',\n",
      "'assets/img/Finished_text.gif',\n",
      "'assets/img/Mainprofile4.png',\n",
      "'assets/img/Tools_9.png',\n",
      "'assets/img/Tools_8.png',\n",
      "'assets/img/Aeropress.png',\n",
      "'assets/fonts/fa-solid-900.ttf',\n",
      "'assets/fonts/fontawesome-webfont.svg',\n",
      "'assets/fonts/MaterialIcons-Regular.svg',\n",
      "'assets/fonts/fontawesome5-overrides.min.css',\n",
      "'assets/fonts/FontAwesome.otf',\n",
      "'assets/fonts/fa-regular-400.svg',\n",
      "'assets/fonts/ionicons.eot',\n",
      "'assets/fonts/fa-regular-400.woff2',\n",
      "'assets/fonts/ionicons.woff',\n",
      "'assets/fonts/MaterialIcons-Regular.woff2',\n",
      "'assets/fonts/fa-solid-900.eot',\n",
      "'assets/fonts/ionicons.ttf',\n",
      "'assets/fonts/fontawesome-all.min.css',\n",
      "'assets/fonts/fontawesome-webfont.woff2',\n",
      "'assets/fonts/fa-brands-400.svg',\n",
      "'assets/fonts/material-icons.min.css',\n",
      "'assets/fonts/fa-regular-400.woff',\n",
      "'assets/fonts/fa-brands-400.eot',\n",
      "'assets/fonts/MaterialIcons-Regular.woff',\n",
      "'assets/fonts/fa-solid-900.svg',\n",
      "'assets/fonts/fontawesome-webfont.ttf',\n",
      "'assets/fonts/ionicons.min.css',\n",
      "'assets/fonts/MaterialIcons-Regular.ttf',\n",
      "'assets/fonts/font-awesome.min.css',\n",
      "'assets/fonts/fa-solid-900.woff',\n",
      "'assets/fonts/fa-regular-400.ttf',\n",
      "'assets/fonts/ionicons.svg',\n",
      "'assets/fonts/fontawesome-webfont.woff',\n",
      "'assets/fonts/fa-solid-900.woff2',\n",
      "'assets/fonts/fa-brands-400.woff2',\n",
      "'assets/fonts/fa-brands-400.woff',\n",
      "'assets/fonts/fa-brands-400.ttf',\n",
      "'assets/fonts/fontawesome-webfont.eot',\n",
      "'assets/fonts/MaterialIcons-Regular.eot',\n",
      "'assets/fonts/fa-regular-400.eot',\n"
     ]
    }
   ],
   "source": [
    "newlist = []\n",
    "for i in path_list:\n",
    "    print(\"'\"+i[63:]+\"',\")"
   ]
  },
  {
   "cell_type": "code",
   "execution_count": 4,
   "metadata": {},
   "outputs": [
    {
     "data": {
      "text/plain": [
       "62"
      ]
     },
     "execution_count": 4,
     "metadata": {},
     "output_type": "execute_result"
    }
   ],
   "source": []
  },
  {
   "cell_type": "code",
   "execution_count": null,
   "metadata": {},
   "outputs": [],
   "source": []
  }
 ],
 "metadata": {
  "kernelspec": {
   "display_name": "Python 3",
   "language": "python",
   "name": "python3"
  },
  "language_info": {
   "codemirror_mode": {
    "name": "ipython",
    "version": 3
   },
   "file_extension": ".py",
   "mimetype": "text/x-python",
   "name": "python",
   "nbconvert_exporter": "python",
   "pygments_lexer": "ipython3",
   "version": "3.9.7"
  },
  "orig_nbformat": 4,
  "vscode": {
   "interpreter": {
    "hash": "aee8b7b246df8f9039afb4144a1f6fd8d2ca17a180786b69acc140d282b71a49"
   }
  }
 },
 "nbformat": 4,
 "nbformat_minor": 2
}
