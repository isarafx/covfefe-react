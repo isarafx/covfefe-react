{
 "cells": [
  {
   "cell_type": "code",
   "execution_count": 1,
   "metadata": {},
   "outputs": [
    {
     "name": "stdout",
     "output_type": "stream",
     "text": [
      "yolo\n"
     ]
    }
   ],
   "source": [
    "print('yolo')"
   ]
  },
  {
   "cell_type": "code",
   "execution_count": 3,
   "metadata": {},
   "outputs": [],
   "source": [
    "import os\n",
    "path_list = [os.path.join(path, name) for path, subdirs, files in os.walk('/Users/isarakunudomchaiwat/Desktop/1project/prod/my-app/public') for name in files]"
   ]
  },
  {
   "cell_type": "code",
   "execution_count": 11,
   "metadata": {},
   "outputs": [
    {
     "name": "stdout",
     "output_type": "stream",
     "text": [
      "{url:'favicon.ico', revision: null},\n",
      "{url:'index.html', revision: null},\n",
      "{url:'.DS_Store', revision: null},\n",
      "{url:'manifest.json', revision: null},\n",
      "{url:'serviceworker.js', revision: null},\n",
      "{url:'robots.txt', revision: null},\n",
      "{url:'assets/.DS_Store', revision: null},\n",
      "{url:'assets/bootstrap/css/bootstrap.min.css', revision: null},\n",
      "{url:'assets/bootstrap/js/bootstrap.min.js', revision: null},\n",
      "{url:'assets/css/Brewing_Guide2.css', revision: null},\n",
      "{url:'assets/css/Coffee_Article.css', revision: null},\n",
      "{url:'assets/css/Community.css', revision: null},\n",
      "{url:'assets/css/Brewing_Guide3.css', revision: null},\n",
      "{url:'assets/css/Brewing_Guide4.css', revision: null},\n",
      "{url:'assets/css/styles.css', revision: null},\n",
      "{url:'assets/css/Features-Clean.css', revision: null},\n",
      "{url:'assets/css/Multiple-Input-Select-Pills.css', revision: null},\n",
      "{url:'assets/css/Ultimate-Sidebar-Menu-BS5.css', revision: null},\n",
      "{url:'assets/css/Round_switch.css', revision: null},\n",
      "{url:'assets/css/Profile_page.css', revision: null},\n",
      "{url:'assets/css/Error.css', revision: null},\n",
      "{url:'assets/css/Login_Register.css', revision: null},\n",
      "{url:'assets/css/Brewing_Guide.css', revision: null},\n",
      "{url:'assets/css/Admin_page.css', revision: null},\n",
      "{url:'assets/js/CoffeeProject.js', revision: null},\n",
      "{url:'assets/js/CoffeeAvarta.js', revision: null},\n",
      "{url:'assets/js/bs-init.js', revision: null},\n",
      "{url:'assets/img/pwaicon512.png', revision: null},\n",
      "{url:'assets/img/legend_water.png', revision: null},\n",
      "{url:'assets/img/MokaPot.png', revision: null},\n",
      "{url:'assets/img/Tools_5.png', revision: null},\n",
      "{url:'assets/img/Tools_4.png', revision: null},\n",
      "{url:'assets/img/Error2.png', revision: null},\n",
      "{url:'assets/img/Favorite Icon.png', revision: null},\n",
      "{url:'assets/img/legend_rename.png', revision: null},\n",
      "{url:'assets/img/Moka_ICO.png', revision: null},\n",
      "{url:'assets/img/Tools_6.png', revision: null},\n",
      "{url:'assets/img/Tools_7.png', revision: null},\n",
      "{url:'assets/img/Error1.png', revision: null},\n",
      "{url:'assets/img/Tools_3.png', revision: null},\n",
      "{url:'assets/img/Tools_2.png', revision: null},\n",
      "{url:'assets/img/guide_pack_ico.png', revision: null},\n",
      "{url:'assets/img/Hario_ICO.png', revision: null},\n",
      "{url:'assets/img/guide_ratio_ico.png', revision: null},\n",
      "{url:'assets/img/Tools_1.png', revision: null},\n",
      "{url:'assets/img/Frenchpress_ICO.png', revision: null},\n",
      "{url:'assets/img/AvatarIcon.jpg', revision: null},\n",
      "{url:'assets/img/guide_water_ico.png', revision: null},\n",
      "{url:'assets/img/guide_timer_ico.png', revision: null},\n",
      "{url:'assets/img/Process_Dummy_icon.png', revision: null},\n",
      "{url:'assets/img/Shop Icon.png', revision: null},\n",
      "{url:'assets/img/legend_name.png', revision: null},\n",
      "{url:'assets/img/legend_picture.png', revision: null},\n",
      "{url:'assets/img/Aeropress_ICO.png', revision: null},\n",
      "{url:'assets/img/legend_process.png', revision: null},\n",
      "{url:'assets/img/Chemex.png', revision: null},\n",
      "{url:'assets/img/guide_bean_ico.png', revision: null},\n",
      "{url:'assets/img/Timer_pause_ico.png', revision: null},\n",
      "{url:'assets/img/Article_Dummy.png', revision: null},\n",
      "{url:'assets/img/Timer_play_ico.png', revision: null},\n",
      "{url:'assets/img/Frenchpress.png', revision: null},\n",
      "{url:'assets/img/legend_note.png', revision: null},\n",
      "{url:'assets/img/legend_time.png', revision: null},\n",
      "{url:'assets/img/legend_bean.png', revision: null},\n",
      "{url:'assets/img/Comment_Female.png', revision: null},\n",
      "{url:'assets/img/guide_grind_ico.png', revision: null},\n",
      "{url:'assets/img/BG1.png', revision: null},\n",
      "{url:'assets/img/Aeropress192.png', revision: null},\n",
      "{url:'assets/img/guide_heat_ico.png', revision: null},\n",
      "{url:'assets/img/ALL_ICO.png', revision: null},\n",
      "{url:'assets/img/Sample.png', revision: null},\n",
      "{url:'assets/img/Mug icon.png', revision: null},\n",
      "{url:'assets/img/pwaicon192.png', revision: null},\n",
      "{url:'assets/img/Shop_Dummy.png', revision: null},\n",
      "{url:'assets/img/legend_tool.png', revision: null},\n",
      "{url:'assets/img/Timer_skip_ico.png', revision: null},\n",
      "{url:'assets/img/CoffeeCactus.png', revision: null},\n",
      "{url:'assets/img/Mainprofile3.jpg', revision: null},\n",
      "{url:'assets/img/Picture1.png', revision: null},\n",
      "{url:'assets/img/Finished_ICO1.gif', revision: null},\n",
      "{url:'assets/img/Mainprofile2.png', revision: null},\n",
      "{url:'assets/img/Tools_10.png', revision: null},\n",
      "{url:'assets/img/Comment_Male.png', revision: null},\n",
      "{url:'assets/img/Cup Icon.png', revision: null},\n",
      "{url:'assets/img/Picture3.png', revision: null},\n",
      "{url:'assets/img/5sec.mp3', revision: null},\n",
      "{url:'assets/img/Mainprofile1.jpg', revision: null},\n",
      "{url:'assets/img/Chemex_ICO.png', revision: null},\n",
      "{url:'assets/img/Tools_11.png', revision: null},\n",
      "{url:'assets/img/Mainprofile5.png', revision: null},\n",
      "{url:'assets/img/Hario V60.png', revision: null},\n",
      "{url:'assets/img/Finished_text.gif', revision: null},\n",
      "{url:'assets/img/Mainprofile4.png', revision: null},\n",
      "{url:'assets/img/Tools_9.png', revision: null},\n",
      "{url:'assets/img/Tools_8.png', revision: null},\n",
      "{url:'assets/img/Aeropress.png', revision: null},\n",
      "{url:'assets/fonts/fa-solid-900.ttf', revision: null},\n",
      "{url:'assets/fonts/fontawesome-webfont.svg', revision: null},\n",
      "{url:'assets/fonts/MaterialIcons-Regular.svg', revision: null},\n",
      "{url:'assets/fonts/fontawesome5-overrides.min.css', revision: null},\n",
      "{url:'assets/fonts/FontAwesome.otf', revision: null},\n",
      "{url:'assets/fonts/fa-regular-400.svg', revision: null},\n",
      "{url:'assets/fonts/ionicons.eot', revision: null},\n",
      "{url:'assets/fonts/fa-regular-400.woff2', revision: null},\n",
      "{url:'assets/fonts/ionicons.woff', revision: null},\n",
      "{url:'assets/fonts/MaterialIcons-Regular.woff2', revision: null},\n",
      "{url:'assets/fonts/fa-solid-900.eot', revision: null},\n",
      "{url:'assets/fonts/ionicons.ttf', revision: null},\n",
      "{url:'assets/fonts/fontawesome-all.min.css', revision: null},\n",
      "{url:'assets/fonts/fontawesome-webfont.woff2', revision: null},\n",
      "{url:'assets/fonts/fa-brands-400.svg', revision: null},\n",
      "{url:'assets/fonts/material-icons.min.css', revision: null},\n",
      "{url:'assets/fonts/fa-regular-400.woff', revision: null},\n",
      "{url:'assets/fonts/fa-brands-400.eot', revision: null},\n",
      "{url:'assets/fonts/MaterialIcons-Regular.woff', revision: null},\n",
      "{url:'assets/fonts/fa-solid-900.svg', revision: null},\n",
      "{url:'assets/fonts/fontawesome-webfont.ttf', revision: null},\n",
      "{url:'assets/fonts/ionicons.min.css', revision: null},\n",
      "{url:'assets/fonts/MaterialIcons-Regular.ttf', revision: null},\n",
      "{url:'assets/fonts/font-awesome.min.css', revision: null},\n",
      "{url:'assets/fonts/fa-solid-900.woff', revision: null},\n",
      "{url:'assets/fonts/fa-regular-400.ttf', revision: null},\n",
      "{url:'assets/fonts/ionicons.svg', revision: null},\n",
      "{url:'assets/fonts/fontawesome-webfont.woff', revision: null},\n",
      "{url:'assets/fonts/fa-solid-900.woff2', revision: null},\n",
      "{url:'assets/fonts/fa-brands-400.woff2', revision: null},\n",
      "{url:'assets/fonts/fa-brands-400.woff', revision: null},\n",
      "{url:'assets/fonts/fa-brands-400.ttf', revision: null},\n",
      "{url:'assets/fonts/fontawesome-webfont.eot', revision: null},\n",
      "{url:'assets/fonts/MaterialIcons-Regular.eot', revision: null},\n",
      "{url:'assets/fonts/fa-regular-400.eot', revision: null},\n"
     ]
    }
   ],
   "source": [
    "newlist = []\n",
    "# //{url: '/styles/app.0c9a31.css', revision: null},\n",
    "for i in path_list:\n",
    "    print(\"{url:'\"+i[63:]+\"', revision: null},\")"
   ]
  },
  {
   "cell_type": "code",
   "execution_count": 9,
   "metadata": {},
   "outputs": [
    {
     "data": {
      "text/plain": [
       "[]"
      ]
     },
     "execution_count": 9,
     "metadata": {},
     "output_type": "execute_result"
    }
   ],
   "source": [
    "newlist"
   ]
  },
  {
   "cell_type": "code",
   "execution_count": null,
   "metadata": {},
   "outputs": [],
   "source": []
  }
 ],
 "metadata": {
  "kernelspec": {
   "display_name": "Python 3",
   "language": "python",
   "name": "python3"
  },
  "language_info": {
   "codemirror_mode": {
    "name": "ipython",
    "version": 3
   },
   "file_extension": ".py",
   "mimetype": "text/x-python",
   "name": "python",
   "nbconvert_exporter": "python",
   "pygments_lexer": "ipython3",
   "version": "3.9.7"
  },
  "orig_nbformat": 4,
  "vscode": {
   "interpreter": {
    "hash": "aee8b7b246df8f9039afb4144a1f6fd8d2ca17a180786b69acc140d282b71a49"
   }
  }
 },
 "nbformat": 4,
 "nbformat_minor": 2
}
