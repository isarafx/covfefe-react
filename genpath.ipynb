{
 "cells": [
  {
   "cell_type": "code",
   "execution_count": 2,
   "metadata": {},
   "outputs": [
    {
     "name": "stdout",
     "output_type": "stream",
     "text": [
      "['/Users/isarakunudomchaiwat/Desktop/final/public/favicon.ico', '/Users/isarakunudomchaiwat/Desktop/final/public/index.html', '/Users/isarakunudomchaiwat/Desktop/final/public/worker.js', '/Users/isarakunudomchaiwat/Desktop/final/public/testo.js', '/Users/isarakunudomchaiwat/Desktop/final/public/manifest.json', '/Users/isarakunudomchaiwat/Desktop/final/public/robots.txt', '/Users/isarakunudomchaiwat/Desktop/final/public/assets']\n"
     ]
    }
   ],
   "source": []
  },
  {
   "cell_type": "code",
   "execution_count": 7,
   "metadata": {},
   "outputs": [],
   "source": [
    "from glob import glob\n",
    "glob(\"/Users/isarakunudomchaiwat/Desktop/final/public/*\", recursive = True)\n",
    "path = '/Users/isarakunudomchaiwat/Desktop/final/public/'"
   ]
  },
  {
   "cell_type": "code",
   "execution_count": 8,
   "metadata": {},
   "outputs": [
    {
     "ename": "NameError",
     "evalue": "name 'folder' is not defined",
     "output_type": "error",
     "traceback": [
      "\u001b[0;31m---------------------------------------------------------------------------\u001b[0m",
      "\u001b[0;31mNameError\u001b[0m                                 Traceback (most recent call last)",
      "\u001b[0;32m/var/folders/81/dfd5dgwx7kl49r43t858594r0000gn/T/ipykernel_68732/218566980.py\u001b[0m in \u001b[0;36m<module>\u001b[0;34m\u001b[0m\n\u001b[0;32m----> 1\u001b[0;31m \u001b[0msubfolders\u001b[0m \u001b[0;34m=\u001b[0m \u001b[0;34m[\u001b[0m \u001b[0mf\u001b[0m\u001b[0;34m.\u001b[0m\u001b[0mpath\u001b[0m \u001b[0;32mfor\u001b[0m \u001b[0mf\u001b[0m \u001b[0;32min\u001b[0m \u001b[0mos\u001b[0m\u001b[0;34m.\u001b[0m\u001b[0mscandir\u001b[0m\u001b[0;34m(\u001b[0m\u001b[0mfolder\u001b[0m\u001b[0;34m)\u001b[0m \u001b[0;32mif\u001b[0m \u001b[0mf\u001b[0m\u001b[0;34m.\u001b[0m\u001b[0mis_dir\u001b[0m\u001b[0;34m(\u001b[0m\u001b[0;34m)\u001b[0m \u001b[0;34m]\u001b[0m\u001b[0;34m\u001b[0m\u001b[0;34m\u001b[0m\u001b[0m\n\u001b[0m",
      "\u001b[0;31mNameError\u001b[0m: name 'folder' is not defined"
     ]
    }
   ],
   "source": []
  },
  {
   "cell_type": "code",
   "execution_count": 10,
   "metadata": {},
   "outputs": [
    {
     "data": {
      "text/plain": [
       "[PosixPath('/Users/isarakunudomchaiwat/Desktop/final/public/assets')]"
      ]
     },
     "execution_count": 10,
     "metadata": {},
     "output_type": "execute_result"
    }
   ],
   "source": [
    "from pathlib import Path\n",
    "\n",
    "p = Path('/Users/isarakunudomchaiwat/Desktop/final/public/')\n",
    "\n",
    "# All subdirectories in the current directory, not recursive.\n",
    "[f for f in p.iterdir() if f.is_dir()]"
   ]
  },
  {
   "cell_type": "code",
   "execution_count": 11,
   "metadata": {},
   "outputs": [
    {
     "data": {
      "text/plain": [
       "[PosixPath('/Users/isarakunudomchaiwat/Desktop/final/public'),\n",
       " PosixPath('/Users/isarakunudomchaiwat/Desktop/final/public/assets'),\n",
       " PosixPath('/Users/isarakunudomchaiwat/Desktop/final/public/assets/bootstrap'),\n",
       " PosixPath('/Users/isarakunudomchaiwat/Desktop/final/public/assets/bootstrap/css'),\n",
       " PosixPath('/Users/isarakunudomchaiwat/Desktop/final/public/assets/bootstrap/js'),\n",
       " PosixPath('/Users/isarakunudomchaiwat/Desktop/final/public/assets/css'),\n",
       " PosixPath('/Users/isarakunudomchaiwat/Desktop/final/public/assets/js'),\n",
       " PosixPath('/Users/isarakunudomchaiwat/Desktop/final/public/assets/img'),\n",
       " PosixPath('/Users/isarakunudomchaiwat/Desktop/final/public/assets/fonts')]"
      ]
     },
     "execution_count": 11,
     "metadata": {},
     "output_type": "execute_result"
    }
   ],
   "source": [
    "list(p.glob('**'))"
   ]
  },
  {
   "cell_type": "code",
   "execution_count": 2,
   "metadata": {},
   "outputs": [],
   "source": [
    "import os\n",
    "\n",
    "pathlist = [val for sublist in [[os.path.join(i[0], j) for j in i[2]] for i in os.walk('/Users/isarakunudomchaiwat/Desktop/final/public/')] for val in sublist]\n",
    "# Meta comment to ease selecting text"
   ]
  },
  {
   "cell_type": "code",
   "execution_count": 3,
   "metadata": {},
   "outputs": [
    {
     "name": "stdout",
     "output_type": "stream",
     "text": [
      "{'/favicon.ico',\n",
      "{'/index.html',\n",
      "{'/worker.js',\n",
      "{'/manifest.json',\n",
      "{'/robots.txt',\n",
      "{'/assets/bootstrap/css/bootstrap.min.css',\n",
      "{'/assets/bootstrap/js/bootstrap.min.js',\n",
      "{'/assets/js/CoffeeProject.js',\n",
      "{'/assets/js/CoffeeAvarta.js',\n",
      "{'/assets/js/bs-init.js',\n",
      "{'/assets/img/pwaicon512.png',\n",
      "{'/assets/img/legend_water.png',\n",
      "{'/assets/img/MokaPot.png',\n",
      "{'/assets/img/Tools_5.png',\n",
      "{'/assets/img/Tools_4.png',\n",
      "{'/assets/img/Error2.png',\n",
      "{'/assets/img/Favorite Icon.png',\n",
      "{'/assets/img/legend_rename.png',\n",
      "{'/assets/img/Moka_ICO.png',\n",
      "{'/assets/img/Tools_6.png',\n",
      "{'/assets/img/Tools_7.png',\n",
      "{'/assets/img/Error1.png',\n",
      "{'/assets/img/Tools_3.png',\n",
      "{'/assets/img/Tools_2.png',\n",
      "{'/assets/img/guide_pack_ico.png',\n",
      "{'/assets/img/Hario_ICO.png',\n",
      "{'/assets/img/guide_ratio_ico.png',\n",
      "{'/assets/img/Tools_1.png',\n",
      "{'/assets/img/Frenchpress_ICO.png',\n",
      "{'/assets/img/AvatarIcon.jpg',\n",
      "{'/assets/img/guide_water_ico.png',\n",
      "{'/assets/img/guide_timer_ico.png',\n",
      "{'/assets/img/Process_Dummy_icon.png',\n",
      "{'/assets/img/Shop Icon.png',\n",
      "{'/assets/img/legend_name.png',\n",
      "{'/assets/img/legend_picture.png',\n",
      "{'/assets/img/Aeropress_ICO.png',\n",
      "{'/assets/img/legend_process.png',\n",
      "{'/assets/img/Chemex.png',\n",
      "{'/assets/img/guide_bean_ico.png',\n",
      "{'/assets/img/Timer_pause_ico.png',\n",
      "{'/assets/img/Article_Dummy.png',\n",
      "{'/assets/img/Timer_play_ico.png',\n",
      "{'/assets/img/Frenchpress.png',\n",
      "{'/assets/img/legend_note.png',\n",
      "{'/assets/img/legend_time.png',\n",
      "{'/assets/img/legend_bean.png',\n",
      "{'/assets/img/Comment_Female.png',\n",
      "{'/assets/img/guide_grind_ico.png',\n",
      "{'/assets/img/BG1.png',\n",
      "{'/assets/img/Aeropress192.png',\n",
      "{'/assets/img/guide_heat_ico.png',\n",
      "{'/assets/img/ALL_ICO.png',\n",
      "{'/assets/img/Sample.png',\n",
      "{'/assets/img/Mug icon.png',\n",
      "{'/assets/img/pwaicon192.png',\n",
      "{'/assets/img/Shop_Dummy.png',\n",
      "{'/assets/img/legend_tool.png',\n",
      "{'/assets/img/Timer_skip_ico.png',\n",
      "{'/assets/img/CoffeeCactus.png',\n",
      "{'/assets/img/Mainprofile3.jpg',\n",
      "{'/assets/img/Picture1.png',\n",
      "{'/assets/img/Finished_ICO1.gif',\n",
      "{'/assets/img/Mainprofile2.png',\n",
      "{'/assets/img/Tools_10.png',\n",
      "{'/assets/img/Comment_Male.png',\n",
      "{'/assets/img/Cup Icon.png',\n",
      "{'/assets/img/Picture3.png',\n",
      "{'/assets/img/5sec.mp3',\n",
      "{'/assets/img/Mainprofile1.jpg',\n",
      "{'/assets/img/Chemex_ICO.png',\n",
      "{'/assets/img/Tools_11.png',\n",
      "{'/assets/img/Mainprofile5.png',\n",
      "{'/assets/img/Hario V60.png',\n",
      "{'/assets/img/Finished_text.gif',\n",
      "{'/assets/img/Mainprofile4.png',\n",
      "{'/assets/img/Tools_9.png',\n",
      "{'/assets/img/Tools_8.png',\n",
      "{'/assets/img/Aeropress.png',\n",
      "{'/assets/fonts/fa-solid-900.ttf',\n",
      "{'/assets/fonts/fontawesome-webfont.svg',\n",
      "{'/assets/fonts/MaterialIcons-Regular.svg',\n",
      "{'/assets/fonts/fontawesome5-overrides.min.css',\n",
      "{'/assets/fonts/FontAwesome.otf',\n",
      "{'/assets/fonts/fa-regular-400.svg',\n",
      "{'/assets/fonts/ionicons.eot',\n",
      "{'/assets/fonts/fa-regular-400.woff2',\n",
      "{'/assets/fonts/ionicons.woff',\n",
      "{'/assets/fonts/MaterialIcons-Regular.woff2',\n",
      "{'/assets/fonts/fa-solid-900.eot',\n",
      "{'/assets/fonts/ionicons.ttf',\n",
      "{'/assets/fonts/fontawesome-all.min.css',\n",
      "{'/assets/fonts/fontawesome-webfont.woff2',\n",
      "{'/assets/fonts/fa-brands-400.svg',\n",
      "{'/assets/fonts/material-icons.min.css',\n",
      "{'/assets/fonts/fa-regular-400.woff',\n",
      "{'/assets/fonts/fa-brands-400.eot',\n",
      "{'/assets/fonts/MaterialIcons-Regular.woff',\n",
      "{'/assets/fonts/fa-solid-900.svg',\n",
      "{'/assets/fonts/fontawesome-webfont.ttf',\n",
      "{'/assets/fonts/ionicons.min.css',\n",
      "{'/assets/fonts/MaterialIcons-Regular.ttf',\n",
      "{'/assets/fonts/font-awesome.min.css',\n",
      "{'/assets/fonts/fa-solid-900.woff',\n",
      "{'/assets/fonts/fa-regular-400.ttf',\n",
      "{'/assets/fonts/ionicons.svg',\n",
      "{'/assets/fonts/fontawesome-webfont.woff',\n",
      "{'/assets/fonts/fa-solid-900.woff2',\n",
      "{'/assets/fonts/fa-brands-400.woff2',\n",
      "{'/assets/fonts/fa-brands-400.woff',\n",
      "{'/assets/fonts/fa-brands-400.ttf',\n",
      "{'/assets/fonts/fontawesome-webfont.eot',\n",
      "{'/assets/fonts/MaterialIcons-Regular.eot',\n",
      "{'/assets/fonts/fa-regular-400.eot',\n"
     ]
    }
   ],
   "source": [
    "for a in pathlist:\n",
    "    print(\"{'\"+a[47:]+\"'\"+',')"
   ]
  },
  {
   "cell_type": "code",
   "execution_count": null,
   "metadata": {},
   "outputs": [],
   "source": []
  }
 ],
 "metadata": {
  "kernelspec": {
   "display_name": "Python 3",
   "language": "python",
   "name": "python3"
  },
  "language_info": {
   "codemirror_mode": {
    "name": "ipython",
    "version": 3
   },
   "file_extension": ".py",
   "mimetype": "text/x-python",
   "name": "python",
   "nbconvert_exporter": "python",
   "pygments_lexer": "ipython3",
   "version": "3.9.7"
  },
  "orig_nbformat": 4,
  "vscode": {
   "interpreter": {
    "hash": "aee8b7b246df8f9039afb4144a1f6fd8d2ca17a180786b69acc140d282b71a49"
   }
  }
 },
 "nbformat": 4,
 "nbformat_minor": 2
}
